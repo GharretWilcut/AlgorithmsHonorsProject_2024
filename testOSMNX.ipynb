{
 "cells": [
  {
   "cell_type": "code",
   "execution_count": null,
   "metadata": {},
   "outputs": [],
   "source": [
    "%pip install --upgrade pip\n",
    "%pip install matplotlib\n",
    "%pip install osmnx\n",
    "%pip install networkx\n",
    "%pip install csv\n",
    "%pip install scikit-learn\n"
   ]
  },
  {
   "cell_type": "code",
   "execution_count": null,
   "metadata": {},
   "outputs": [],
   "source": [
    "\n",
    "import networkx as nx\n",
    "import osmnx as ox\n",
    "import numpy as np\n",
    "import time\n",
    "import matplotlib.pyplot as plt\n",
    "import csv\n",
    "import random\n",
    "from dijkstra_algorithm import dijkstra_algorithm\n",
    "from dijkstra_algorithm import make_route\n",
    "from dijkstra_algorithm import dijkstra_algorithm_driver\n",
    "from deliveries import delivery\n",
    "from other_funcs import *\n",
    "from minheap import MinHeap\n",
    "from maxheap import MaxHeap\n",
    "from driver import driver\n",
    "import heapq\n",
    "\n",
    "ox.__version__\n",
    "random.seed(None)"
   ]
  },
  {
   "cell_type": "code",
   "execution_count": null,
   "metadata": {},
   "outputs": [],
   "source": [
    "# download/model a street network for some city then visualize it\n",
    "G = ox.graph_from_place(\"Chicago, Illinois, USA\", network_type=\"drive\")\n",
    "Gc = ox.utils_graph.get_largest_component(G, strongly=True)"
   ]
  },
  {
   "cell_type": "markdown",
   "metadata": {},
   "source": [
    "Need to make a list of all restaurants using what is below this markdown"
   ]
  },
  {
   "cell_type": "code",
   "execution_count": null,
   "metadata": {},
   "outputs": [],
   "source": [
    "file = open('Food_Inspections_20240223.csv')\n",
    "type(file)\n",
    "\n",
    "csvreader = csv.reader(file)\n",
    "header = []\n",
    "header = next(csvreader)\n",
    "header\n",
    "\n",
    "food_inspections = []\n",
    "filled_locations = []\n",
    "\n",
    "rows = []\n",
    "for row in csvreader:\n",
    "    rows.append(row)"
   ]
  },
  {
   "cell_type": "markdown",
   "metadata": {},
   "source": [
    "I condensed all the sections into a single function that does the graphing."
   ]
  },
  {
   "cell_type": "code",
   "execution_count": null,
   "metadata": {},
   "outputs": [],
   "source": [
    "def get_graph(num_of_drivers,num_of_deliveries,graph,restaurants):\n",
    "    N_L = list(graph.nodes)[None:None:None]\n",
    "    graph = ox.speed.add_edge_speeds(graph)\n",
    "    graph = ox.speed.add_edge_travel_times(graph)\n",
    "    items = random_restaurant_locations(restaurants,num_of_deliveries)\n",
    "    list_nodes = find_node(items,graph)\n",
    "\n",
    "    list_of_deliveries = []\n",
    "    for i in list_nodes:\n",
    "        d = delivery(i,N_L)\n",
    "        list_of_deliveries.append(d)\n",
    "    \n",
    "    drivers = []\n",
    "    for i in range(num_of_drivers):\n",
    "        single = driver(N_L)\n",
    "        drivers.append(single)\n",
    "    find_routes_for_res_to_dropoff(graph,list_of_deliveries)\n",
    "    restaurant_set = set()\n",
    "    for i in list_of_deliveries:\n",
    "        restaurant_set.add(i.restaurant_loc)\n",
    "    \n",
    "    find_shortest_driver_dikstra(graph,list_of_deliveries,drivers,restaurant_set)\n",
    "\n",
    "    total = []\n",
    "    for i in list_of_deliveries:\n",
    "        total.append(i.reward_ratio[i.driver_loc])\n",
    "    max_reward = max(total)\n",
    "    average = sum(total) / len(total)\n",
    "    return max_reward,average\n",
    "    "
   ]
  },
  {
   "cell_type": "code",
   "execution_count": null,
   "metadata": {},
   "outputs": [],
   "source": [
    "def generate_random_input(size):\n",
    "    arr = np.random.randint(0, 100000, size = size)\n",
    "    return arr"
   ]
  },
  {
   "cell_type": "code",
   "execution_count": null,
   "metadata": {},
   "outputs": [],
   "source": [
    "monte_carlo_runs = 30\n",
    "\n",
    "\n",
    "# Range of array sizes considered\n",
    "start_array = 2\n",
    "end_array = 20\n",
    "increments = 2\n",
    "\n",
    "# Initiate average and worst case run-time\n",
    "avg_rewards_earned = [0]*(end_array//increments)\n",
    "best_rewards = [0]*(end_array//increments)\n",
    "\n",
    "# Run-time experiments for random arrays of a given size\n",
    "count = 0\n",
    "for curr_array_size in range(start_array, end_array+1, increments):  \n",
    "    average_rewards = []\n",
    "    max_rewards = []\n",
    "    # Given a fixed array size, generate one random array and compute its run-time\n",
    "    for iteration in range(monte_carlo_runs):             \n",
    "        max_reward, average = get_graph(curr_array_size,curr_array_size,Gc,rows)                    \n",
    "        average_rewards.append(average)\n",
    "        max_rewards.append(max_reward)           \n",
    "        \n",
    "    avg_rewards_earned[count] = (sum(average_rewards)/len(average_rewards)) # Empirical average of run-time\n",
    "    best_rewards[count] = (max(max_rewards))              # Worst case run time across various random experiments\n",
    "    count += 1"
   ]
  },
  {
   "cell_type": "code",
   "execution_count": null,
   "metadata": {},
   "outputs": [],
   "source": [
    "# Data Coordinates\n",
    "x = np.arange(start_array, end_array+1, increments)\n",
    "y = np.array(avg_rewards_earned)\n",
    "z = np.array(best_rewards)\n",
    "\n",
    "# Plot\n",
    "plt.plot(x,y,'b',label='Avg Reward Earned') \n",
    "plt.plot(x,z,'r',label='Best Reward earned') \n",
    "\n",
    "# Add Title\n",
    "plt.title(\"Delivery Simulation\") \n",
    "\n",
    "# Add Axes Labels\n",
    "plt.xlabel(\"# of delveries\") \n",
    "plt.ylabel(\"Reward Ratio\") \n",
    "\n",
    "# Display\n",
    "plt.legend()\n",
    "plt.show()"
   ]
  }
 ],
 "metadata": {
  "kernelspec": {
   "display_name": "Python 3",
   "language": "python",
   "name": "python3"
  },
  "language_info": {
   "codemirror_mode": {
    "name": "ipython",
    "version": 3
   },
   "file_extension": ".py",
   "mimetype": "text/x-python",
   "name": "python",
   "nbconvert_exporter": "python",
   "pygments_lexer": "ipython3",
   "version": "3.10.11"
  }
 },
 "nbformat": 4,
 "nbformat_minor": 2
}
