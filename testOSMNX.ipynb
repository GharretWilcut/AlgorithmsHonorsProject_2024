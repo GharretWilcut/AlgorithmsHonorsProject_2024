{
 "cells": [
  {
   "cell_type": "code",
   "execution_count": 1,
   "metadata": {},
   "outputs": [
    {
     "name": "stdout",
     "output_type": "stream",
     "text": [
      "Requirement already satisfied: pip in c:\\users\\gharr\\appdata\\local\\packages\\pythonsoftwarefoundation.python.3.10_qbz5n2kfra8p0\\localcache\\local-packages\\python310\\site-packages (24.0)\n",
      "Note: you may need to restart the kernel to use updated packages.\n",
      "Requirement already satisfied: matplotlib in c:\\users\\gharr\\appdata\\local\\packages\\pythonsoftwarefoundation.python.3.10_qbz5n2kfra8p0\\localcache\\local-packages\\python310\\site-packages (3.8.3)\n",
      "Requirement already satisfied: contourpy>=1.0.1 in c:\\users\\gharr\\appdata\\local\\packages\\pythonsoftwarefoundation.python.3.10_qbz5n2kfra8p0\\localcache\\local-packages\\python310\\site-packages (from matplotlib) (1.2.0)\n",
      "Requirement already satisfied: cycler>=0.10 in c:\\users\\gharr\\appdata\\local\\packages\\pythonsoftwarefoundation.python.3.10_qbz5n2kfra8p0\\localcache\\local-packages\\python310\\site-packages (from matplotlib) (0.12.1)\n",
      "Requirement already satisfied: fonttools>=4.22.0 in c:\\users\\gharr\\appdata\\local\\packages\\pythonsoftwarefoundation.python.3.10_qbz5n2kfra8p0\\localcache\\local-packages\\python310\\site-packages (from matplotlib) (4.49.0)\n",
      "Requirement already satisfied: kiwisolver>=1.3.1 in c:\\users\\gharr\\appdata\\local\\packages\\pythonsoftwarefoundation.python.3.10_qbz5n2kfra8p0\\localcache\\local-packages\\python310\\site-packages (from matplotlib) (1.4.5)\n",
      "Requirement already satisfied: numpy<2,>=1.21 in c:\\users\\gharr\\appdata\\local\\packages\\pythonsoftwarefoundation.python.3.10_qbz5n2kfra8p0\\localcache\\local-packages\\python310\\site-packages (from matplotlib) (1.26.4)\n",
      "Requirement already satisfied: packaging>=20.0 in c:\\users\\gharr\\appdata\\local\\packages\\pythonsoftwarefoundation.python.3.10_qbz5n2kfra8p0\\localcache\\local-packages\\python310\\site-packages (from matplotlib) (23.2)\n",
      "Requirement already satisfied: pillow>=8 in c:\\users\\gharr\\appdata\\local\\packages\\pythonsoftwarefoundation.python.3.10_qbz5n2kfra8p0\\localcache\\local-packages\\python310\\site-packages (from matplotlib) (10.2.0)\n",
      "Requirement already satisfied: pyparsing>=2.3.1 in c:\\users\\gharr\\appdata\\local\\packages\\pythonsoftwarefoundation.python.3.10_qbz5n2kfra8p0\\localcache\\local-packages\\python310\\site-packages (from matplotlib) (3.1.2)\n",
      "Requirement already satisfied: python-dateutil>=2.7 in c:\\users\\gharr\\appdata\\local\\packages\\pythonsoftwarefoundation.python.3.10_qbz5n2kfra8p0\\localcache\\local-packages\\python310\\site-packages (from matplotlib) (2.8.2)\n",
      "Requirement already satisfied: six>=1.5 in c:\\users\\gharr\\appdata\\local\\packages\\pythonsoftwarefoundation.python.3.10_qbz5n2kfra8p0\\localcache\\local-packages\\python310\\site-packages (from python-dateutil>=2.7->matplotlib) (1.16.0)\n",
      "Note: you may need to restart the kernel to use updated packages.\n",
      "Requirement already satisfied: osmnx in c:\\users\\gharr\\appdata\\local\\packages\\pythonsoftwarefoundation.python.3.10_qbz5n2kfra8p0\\localcache\\local-packages\\python310\\site-packages (1.9.1)\n",
      "Requirement already satisfied: geopandas>=0.12 in c:\\users\\gharr\\appdata\\local\\packages\\pythonsoftwarefoundation.python.3.10_qbz5n2kfra8p0\\localcache\\local-packages\\python310\\site-packages (from osmnx) (0.14.3)\n",
      "Requirement already satisfied: networkx>=2.5 in c:\\users\\gharr\\appdata\\local\\packages\\pythonsoftwarefoundation.python.3.10_qbz5n2kfra8p0\\localcache\\local-packages\\python310\\site-packages (from osmnx) (3.2.1)\n",
      "Requirement already satisfied: numpy>=1.20 in c:\\users\\gharr\\appdata\\local\\packages\\pythonsoftwarefoundation.python.3.10_qbz5n2kfra8p0\\localcache\\local-packages\\python310\\site-packages (from osmnx) (1.26.4)\n",
      "Requirement already satisfied: pandas>=1.1 in c:\\users\\gharr\\appdata\\local\\packages\\pythonsoftwarefoundation.python.3.10_qbz5n2kfra8p0\\localcache\\local-packages\\python310\\site-packages (from osmnx) (2.2.1)\n",
      "Requirement already satisfied: requests>=2.27 in c:\\users\\gharr\\appdata\\local\\packages\\pythonsoftwarefoundation.python.3.10_qbz5n2kfra8p0\\localcache\\local-packages\\python310\\site-packages (from osmnx) (2.31.0)\n",
      "Requirement already satisfied: shapely>=2.0 in c:\\users\\gharr\\appdata\\local\\packages\\pythonsoftwarefoundation.python.3.10_qbz5n2kfra8p0\\localcache\\local-packages\\python310\\site-packages (from osmnx) (2.0.3)\n",
      "Requirement already satisfied: fiona>=1.8.21 in c:\\users\\gharr\\appdata\\local\\packages\\pythonsoftwarefoundation.python.3.10_qbz5n2kfra8p0\\localcache\\local-packages\\python310\\site-packages (from geopandas>=0.12->osmnx) (1.9.6)\n",
      "Requirement already satisfied: packaging in c:\\users\\gharr\\appdata\\local\\packages\\pythonsoftwarefoundation.python.3.10_qbz5n2kfra8p0\\localcache\\local-packages\\python310\\site-packages (from geopandas>=0.12->osmnx) (23.2)\n",
      "Requirement already satisfied: pyproj>=3.3.0 in c:\\users\\gharr\\appdata\\local\\packages\\pythonsoftwarefoundation.python.3.10_qbz5n2kfra8p0\\localcache\\local-packages\\python310\\site-packages (from geopandas>=0.12->osmnx) (3.6.1)\n",
      "Requirement already satisfied: python-dateutil>=2.8.2 in c:\\users\\gharr\\appdata\\local\\packages\\pythonsoftwarefoundation.python.3.10_qbz5n2kfra8p0\\localcache\\local-packages\\python310\\site-packages (from pandas>=1.1->osmnx) (2.8.2)\n",
      "Requirement already satisfied: pytz>=2020.1 in c:\\users\\gharr\\appdata\\local\\packages\\pythonsoftwarefoundation.python.3.10_qbz5n2kfra8p0\\localcache\\local-packages\\python310\\site-packages (from pandas>=1.1->osmnx) (2024.1)\n",
      "Requirement already satisfied: tzdata>=2022.7 in c:\\users\\gharr\\appdata\\local\\packages\\pythonsoftwarefoundation.python.3.10_qbz5n2kfra8p0\\localcache\\local-packages\\python310\\site-packages (from pandas>=1.1->osmnx) (2024.1)\n",
      "Requirement already satisfied: charset-normalizer<4,>=2 in c:\\users\\gharr\\appdata\\local\\packages\\pythonsoftwarefoundation.python.3.10_qbz5n2kfra8p0\\localcache\\local-packages\\python310\\site-packages (from requests>=2.27->osmnx) (3.3.2)\n",
      "Requirement already satisfied: idna<4,>=2.5 in c:\\users\\gharr\\appdata\\local\\packages\\pythonsoftwarefoundation.python.3.10_qbz5n2kfra8p0\\localcache\\local-packages\\python310\\site-packages (from requests>=2.27->osmnx) (3.6)\n",
      "Requirement already satisfied: urllib3<3,>=1.21.1 in c:\\users\\gharr\\appdata\\local\\packages\\pythonsoftwarefoundation.python.3.10_qbz5n2kfra8p0\\localcache\\local-packages\\python310\\site-packages (from requests>=2.27->osmnx) (2.2.1)\n",
      "Requirement already satisfied: certifi>=2017.4.17 in c:\\users\\gharr\\appdata\\local\\packages\\pythonsoftwarefoundation.python.3.10_qbz5n2kfra8p0\\localcache\\local-packages\\python310\\site-packages (from requests>=2.27->osmnx) (2024.2.2)\n",
      "Requirement already satisfied: attrs>=19.2.0 in c:\\users\\gharr\\appdata\\local\\packages\\pythonsoftwarefoundation.python.3.10_qbz5n2kfra8p0\\localcache\\local-packages\\python310\\site-packages (from fiona>=1.8.21->geopandas>=0.12->osmnx) (23.2.0)\n",
      "Requirement already satisfied: click~=8.0 in c:\\users\\gharr\\appdata\\local\\packages\\pythonsoftwarefoundation.python.3.10_qbz5n2kfra8p0\\localcache\\local-packages\\python310\\site-packages (from fiona>=1.8.21->geopandas>=0.12->osmnx) (8.1.7)\n",
      "Requirement already satisfied: click-plugins>=1.0 in c:\\users\\gharr\\appdata\\local\\packages\\pythonsoftwarefoundation.python.3.10_qbz5n2kfra8p0\\localcache\\local-packages\\python310\\site-packages (from fiona>=1.8.21->geopandas>=0.12->osmnx) (1.1.1)\n",
      "Requirement already satisfied: cligj>=0.5 in c:\\users\\gharr\\appdata\\local\\packages\\pythonsoftwarefoundation.python.3.10_qbz5n2kfra8p0\\localcache\\local-packages\\python310\\site-packages (from fiona>=1.8.21->geopandas>=0.12->osmnx) (0.7.2)\n",
      "Requirement already satisfied: six in c:\\users\\gharr\\appdata\\local\\packages\\pythonsoftwarefoundation.python.3.10_qbz5n2kfra8p0\\localcache\\local-packages\\python310\\site-packages (from fiona>=1.8.21->geopandas>=0.12->osmnx) (1.16.0)\n",
      "Requirement already satisfied: colorama in c:\\users\\gharr\\appdata\\local\\packages\\pythonsoftwarefoundation.python.3.10_qbz5n2kfra8p0\\localcache\\local-packages\\python310\\site-packages (from click~=8.0->fiona>=1.8.21->geopandas>=0.12->osmnx) (0.4.6)\n",
      "Note: you may need to restart the kernel to use updated packages.\n",
      "Requirement already satisfied: networkx in c:\\users\\gharr\\appdata\\local\\packages\\pythonsoftwarefoundation.python.3.10_qbz5n2kfra8p0\\localcache\\local-packages\\python310\\site-packages (3.2.1)\n",
      "Note: you may need to restart the kernel to use updated packages.\n",
      "Note: you may need to restart the kernel to use updated packages.\n"
     ]
    },
    {
     "name": "stderr",
     "output_type": "stream",
     "text": [
      "ERROR: Could not find a version that satisfies the requirement csv (from versions: none)\n",
      "ERROR: No matching distribution found for csv\n"
     ]
    },
    {
     "name": "stdout",
     "output_type": "stream",
     "text": [
      "Requirement already satisfied: scikit-learn in c:\\users\\gharr\\appdata\\local\\packages\\pythonsoftwarefoundation.python.3.10_qbz5n2kfra8p0\\localcache\\local-packages\\python310\\site-packages (1.4.1.post1)\n",
      "Requirement already satisfied: numpy<2.0,>=1.19.5 in c:\\users\\gharr\\appdata\\local\\packages\\pythonsoftwarefoundation.python.3.10_qbz5n2kfra8p0\\localcache\\local-packages\\python310\\site-packages (from scikit-learn) (1.26.4)\n",
      "Requirement already satisfied: scipy>=1.6.0 in c:\\users\\gharr\\appdata\\local\\packages\\pythonsoftwarefoundation.python.3.10_qbz5n2kfra8p0\\localcache\\local-packages\\python310\\site-packages (from scikit-learn) (1.12.0)\n",
      "Requirement already satisfied: joblib>=1.2.0 in c:\\users\\gharr\\appdata\\local\\packages\\pythonsoftwarefoundation.python.3.10_qbz5n2kfra8p0\\localcache\\local-packages\\python310\\site-packages (from scikit-learn) (1.3.2)\n",
      "Requirement already satisfied: threadpoolctl>=2.0.0 in c:\\users\\gharr\\appdata\\local\\packages\\pythonsoftwarefoundation.python.3.10_qbz5n2kfra8p0\\localcache\\local-packages\\python310\\site-packages (from scikit-learn) (3.4.0)\n",
      "Note: you may need to restart the kernel to use updated packages.\n"
     ]
    }
   ],
   "source": [
    "%pip install --upgrade pip\n",
    "%pip install matplotlib\n",
    "%pip install osmnx\n",
    "%pip install networkx\n",
    "%pip install csv\n",
    "%pip install scikit-learn\n"
   ]
  },
  {
   "cell_type": "code",
   "execution_count": 2,
   "metadata": {},
   "outputs": [],
   "source": [
    "\n",
    "import networkx as nx\n",
    "import osmnx as ox\n",
    "import numpy as np\n",
    "import time\n",
    "import matplotlib.pyplot as plt\n",
    "import csv\n",
    "import random\n",
    "from dijkstra_algorithm import dijkstra_algorithm\n",
    "from dijkstra_algorithm import make_route\n",
    "from dijkstra_algorithm import dijkstra_algorithm_driver\n",
    "from deliveries import delivery\n",
    "from other_funcs import *\n",
    "from minheap import MinHeap\n",
    "from maxheap import MaxHeap\n",
    "from driver import driver\n",
    "import heapq\n",
    "\n",
    "ox.__version__\n",
    "random.seed(None)"
   ]
  },
  {
   "cell_type": "code",
   "execution_count": 3,
   "metadata": {},
   "outputs": [],
   "source": [
    "# download/model a street network for some city then visualize it\n",
    "G = ox.graph_from_place(\"Chicago, Illinois, USA\", network_type=\"drive\")\n",
    "Gc = ox.utils_graph.get_largest_component(G, strongly=True)"
   ]
  },
  {
   "cell_type": "markdown",
   "metadata": {},
   "source": [
    "Need to make a list of all restaurants using what is below this markdown"
   ]
  },
  {
   "cell_type": "code",
   "execution_count": 4,
   "metadata": {},
   "outputs": [],
   "source": [
    "file = open('Food_Inspections_20240223.csv')\n",
    "type(file)\n",
    "\n",
    "csvreader = csv.reader(file)\n",
    "header = []\n",
    "header = next(csvreader)\n",
    "header\n",
    "\n",
    "food_inspections = []\n",
    "filled_locations = []\n",
    "\n",
    "rows = []\n",
    "for row in csvreader:\n",
    "    rows.append(row)\n",
    "    \n",
    "N_L = list(Gc.nodes)[None:None:None]\n",
    "graph = ox.speed.add_edge_speeds(Gc)\n",
    "graph = ox.speed.add_edge_travel_times(Gc)"
   ]
  },
  {
   "cell_type": "markdown",
   "metadata": {},
   "source": [
    "I condensed all the sections into a single function that does the graphing."
   ]
  },
  {
   "cell_type": "code",
   "execution_count": 5,
   "metadata": {},
   "outputs": [],
   "source": [
    "def get_graph(num_of_drivers,num_of_deliveries,graph,restaurants,N_L):\n",
    "    items = random_restaurant_locations(restaurants,num_of_deliveries)\n",
    "    list_nodes = find_node(items,graph)\n",
    "\n",
    "    list_of_deliveries = []\n",
    "    for i in list_nodes:\n",
    "        d = delivery(i,N_L)\n",
    "        list_of_deliveries.append(d)\n",
    "    \n",
    "    drivers = []\n",
    "    for i in range(num_of_drivers):\n",
    "        single = driver(N_L, list_of_deliveries)\n",
    "        drivers.append(single)\n",
    "    find_routes_for_res_to_dropoff(graph,list_of_deliveries)\n",
    "    restaurant_set = set()\n",
    "    for i in list_of_deliveries:\n",
    "        restaurant_set.add(i.restaurant_loc)\n",
    "    \n",
    "    find_shortest_driver_dikstra(graph,list_of_deliveries,drivers,restaurant_set)\n",
    "\n",
    "    total = []\n",
    "    for i in list_of_deliveries:\n",
    "        total.append(i.reward_ratio[i.driver_loc])\n",
    "    max_reward = max(total)\n",
    "    average = sum(total) / len(total)\n",
    "    return max_reward,average\n",
    "    "
   ]
  },
  {
   "cell_type": "code",
   "execution_count": 6,
   "metadata": {},
   "outputs": [],
   "source": [
    "def generate_random_input(size):\n",
    "    arr = np.random.randint(0, 100000, size = size)\n",
    "    return arr"
   ]
  },
  {
   "cell_type": "code",
   "execution_count": 7,
   "metadata": {},
   "outputs": [],
   "source": [
    "monte_carlo_runs = 20\n",
    "\n",
    "\n",
    "# Range of array sizes considered\n",
    "start_array = 2\n",
    "end_array = 20\n",
    "increments = 2\n",
    "\n",
    "# Initiate average and worst case run-time\n",
    "avg_rewards_earned = [0]*(end_array//increments)\n",
    "best_rewards = [0]*(end_array//increments)\n",
    "\n",
    "# Run-time experiments for random arrays of a given size\n",
    "count = 0\n",
    "for curr_array_size in range(start_array, end_array+1, increments):  \n",
    "    average_rewards = []\n",
    "    max_rewards = []\n",
    "    # Given a fixed array size, generate one random array and compute its run-time\n",
    "    for iteration in range(monte_carlo_runs):\n",
    "        max_reward = 0\n",
    "        average = 0             \n",
    "        max_reward, average = get_graph(curr_array_size,curr_array_size,Gc,rows,N_L)                    \n",
    "        average_rewards.append(average)\n",
    "        max_rewards.append(max_reward)           \n",
    "        \n",
    "    avg_rewards_earned[count] = (sum(average_rewards)/len(average_rewards)) # Empirical average of run-time\n",
    "    best_rewards[count] = (max(max_rewards))              # Worst case run time across various random experiments\n",
    "    count += 1"
   ]
  },
  {
   "cell_type": "code",
   "execution_count": 8,
   "metadata": {},
   "outputs": [
    {
     "data": {
      "image/png": "[encoded data removed]",
      "text/plain": [
       "<Figure size 640x480 with 1 Axes>"
      ]
     },
     "metadata": {},
     "output_type": "display_data"
    }
   ],
   "source": [
    "# Data Coordinates\n",
    "x = np.arange(start_array, end_array+1, increments)\n",
    "y = np.array(avg_rewards_earned)\n",
    "z = np.array(best_rewards)\n",
    "\n",
    "# Plot\n",
    "plt.plot(x,y,'b',label='Avg Reward Earned') \n",
    "plt.plot(x,z,'r',label='Best Reward earned') \n",
    "\n",
    "# Add Title\n",
    "plt.title(\"Delivery Simulation\") \n",
    "\n",
    "# Add Axes Labels\n",
    "plt.xlabel(\"# of delveries\") \n",
    "plt.ylabel(\"Reward Ratio\") \n",
    "\n",
    "# Display\n",
    "plt.legend()\n",
    "plt.show()"
   ]
  }
 ],
 "metadata": {
  "kernelspec": {
   "display_name": "Python 3",
   "language": "python",
   "name": "python3"
  },
  "language_info": {
   "codemirror_mode": {
    "name": "ipython",
    "version": 3
   },
   "file_extension": ".py",
   "mimetype": "text/x-python",
   "name": "python",
   "nbconvert_exporter": "python",
   "pygments_lexer": "ipython3",
   "version": "3.10.11"
  }
 },
 "nbformat": 4,
 "nbformat_minor": 2
}
